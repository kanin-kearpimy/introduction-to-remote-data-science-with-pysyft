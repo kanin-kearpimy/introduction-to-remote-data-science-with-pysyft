{
 "cells": [
  {
   "cell_type": "markdown",
   "id": "d01e3b8f-eebb-47f0-9ffe-b4ba8c174b27",
   "metadata": {},
   "source": [
    "## Read fitness data from csv"
   ]
  },
  {
   "cell_type": "code",
   "execution_count": null,
   "id": "75c37a9d-635a-4521-9109-1ddb8643e336",
   "metadata": {},
   "outputs": [],
   "source": [
    "import pandas as pd\n",
    "fitness_data = pd.read_csv(\"./data/health-data.csv\")"
   ]
  },
  {
   "cell_type": "code",
   "execution_count": null,
   "id": "95c51692-e585-451b-b814-724b57bda76f",
   "metadata": {},
   "outputs": [],
   "source": [
    "fitness_data.head()"
   ]
  },
  {
   "cell_type": "markdown",
   "id": "9cda16eb-15ca-499f-801a-644493a6a0f3",
   "metadata": {},
   "source": [
    "## Split real & mock data"
   ]
  },
  {
   "cell_type": "code",
   "execution_count": null,
   "id": "4321943e-d627-4316-a3c9-88207cc1c5f5",
   "metadata": {},
   "outputs": [],
   "source": [
    "real_data = fitness_data[0:7]\n",
    "real_data"
   ]
  },
  {
   "cell_type": "code",
   "execution_count": null,
   "id": "f07e5429-fef4-41c3-8ed6-3329c6a336b4",
   "metadata": {},
   "outputs": [],
   "source": [
    "mock_data = fitness_data[7:]\n",
    "mock_data"
   ]
  },
  {
   "cell_type": "markdown",
   "id": "53677262-2f6c-4283-89be-24fa288a77c6",
   "metadata": {},
   "source": [
    "## Initiate connection to Syft server"
   ]
  },
  {
   "cell_type": "markdown",
   "id": "a2d022dc-ae6c-41ff-b139-0a1f568c437c",
   "metadata": {},
   "source": [
    "#### import pysyft"
   ]
  },
  {
   "cell_type": "code",
   "execution_count": null,
   "id": "c2d9494c-cf25-45a8-a409-b6e28c6a696c",
   "metadata": {},
   "outputs": [],
   "source": [
    "try:\n",
    "    import syft as sy\n",
    "    print(\"Syft is imported\")\n",
    "except:\n",
    "    print(\"Syft is not installed\")"
   ]
  },
  {
   "cell_type": "markdown",
   "id": "a23c79b1-3fdd-4820-befb-a6151fec3744",
   "metadata": {},
   "source": [
    "#### open connection to server\n",
    "- hostname = localhost\n",
    "- port = 8080\n",
    "- username = info@openmined.org\n",
    "- password = changethis"
   ]
  },
  {
   "cell_type": "code",
   "execution_count": null,
   "id": "d6c4ee8c-a7bb-4481-8364-490537941aec",
   "metadata": {},
   "outputs": [],
   "source": [
    "try:\n",
    "    domain_client = sy.login(\n",
    "        port=8080,\n",
    "        email=\"info@openmined.org\",\n",
    "        password=\"changethis\"\n",
    "    )\n",
    "except Exception as e:\n",
    "    print(\"Unable to login\")"
   ]
  },
  {
   "cell_type": "markdown",
   "id": "415d7dfc-4f1d-4265-90c8-97dca2a5de42",
   "metadata": {},
   "source": [
    "## Create Data Subject"
   ]
  },
  {
   "cell_type": "code",
   "execution_count": null,
   "id": "c0ec6eaa-aa25-4c74-950a-a008ad0bc81a",
   "metadata": {},
   "outputs": [],
   "source": [
    "data_subject = domain_client.data_subject_registry.get_all()\n",
    "data_subject"
   ]
  },
  {
   "cell_type": "code",
   "execution_count": null,
   "id": "e7cb4c51-67fa-48c2-88e9-52228ddfe532",
   "metadata": {},
   "outputs": [],
   "source": [
    "fitness_data_subject = sy.DataSubject(name=\"Fitness\", aliases=['fitness'])\n",
    "fitness_A = sy.DataSubject(name=\"Fitness A\", aliases=['fitness:a'])"
   ]
  },
  {
   "cell_type": "code",
   "execution_count": null,
   "id": "85d0efb6-408c-4cfb-bc51-de3c64c8cbef",
   "metadata": {},
   "outputs": [],
   "source": [
    "fitness_data_subject.add_member(fitness_A)"
   ]
  },
  {
   "cell_type": "code",
   "execution_count": null,
   "id": "2f1a481e-1411-4abb-b30a-753c52585835",
   "metadata": {},
   "outputs": [],
   "source": [
    "fitness_data_subject.members"
   ]
  },
  {
   "cell_type": "code",
   "execution_count": null,
   "id": "4456c3d4-d168-4d9b-9135-e910020df650",
   "metadata": {},
   "outputs": [],
   "source": [
    "# upload data subject into server\n",
    "domain_client.data_subject_registry.add_data_subject(fitness_data_subject)"
   ]
  },
  {
   "cell_type": "code",
   "execution_count": null,
   "id": "6bc13e28-6c10-4a3d-8f91-3cc325df8a19",
   "metadata": {},
   "outputs": [],
   "source": [
    "data_subject = domain_client.data_subject_registry.get_all()\n",
    "data_subject"
   ]
  },
  {
   "cell_type": "markdown",
   "id": "b6a21e00-d5fb-4b24-b56e-0da02478fd31",
   "metadata": {},
   "source": [
    "## Create Dataset"
   ]
  },
  {
   "cell_type": "code",
   "execution_count": null,
   "id": "8397f6ea-a2cb-487b-9d80-4f904e2db6be",
   "metadata": {},
   "outputs": [],
   "source": [
    "dataset = sy.Dataset(name=\"Fitness A user data\")\n",
    "dataset.set_description(\"10 users health data\")"
   ]
  },
  {
   "cell_type": "markdown",
   "id": "b86029e0-e51f-40b8-ae12-f871db80454d",
   "metadata": {},
   "source": [
    "## Create Asset"
   ]
  },
  {
   "cell_type": "code",
   "execution_count": null,
   "id": "6e5ed4e1-5cb0-41db-b545-b96916641f09",
   "metadata": {},
   "outputs": [],
   "source": [
    "ctf = sy.Asset(name=\"fitness example asset\")\n",
    "ctf.set_description(\"10 example data of users in fitness A\")"
   ]
  },
  {
   "cell_type": "code",
   "execution_count": null,
   "id": "d84929ea-f4fc-4bc6-a812-58ae5ec51ed0",
   "metadata": {},
   "outputs": [],
   "source": [
    "# set real data\n",
    "ctf.set_obj(real_data)\n",
    "ctf.set_shape(real_data.shape)\n",
    "\n",
    "# set mock data\n",
    "ctf.set_mock(mock_data, mock_is_real=False)"
   ]
  },
  {
   "cell_type": "code",
   "execution_count": null,
   "id": "1e5417ce-c98c-42f8-a101-58b773e3a9f6",
   "metadata": {},
   "outputs": [],
   "source": [
    "# attach data subject to asset\n",
    "ctf.add_data_subject(fitness_A)"
   ]
  },
  {
   "cell_type": "code",
   "execution_count": null,
   "id": "8eba7b3d-c258-4c6b-8093-1ba64eeac2fb",
   "metadata": {},
   "outputs": [],
   "source": [
    "dataset.add_asset(ctf)"
   ]
  },
  {
   "cell_type": "markdown",
   "id": "94040b6c-de82-4278-a5a3-00d068225f2c",
   "metadata": {},
   "source": [
    "## Upload dataset to server"
   ]
  },
  {
   "cell_type": "code",
   "execution_count": null,
   "id": "ef9e9523-6565-456f-9120-e31ba0eecb3e",
   "metadata": {},
   "outputs": [],
   "source": [
    "domain_client.upload_dataset(dataset)"
   ]
  },
  {
   "cell_type": "markdown",
   "id": "1a3cb35f-017d-4385-a60f-96121a7f69cd",
   "metadata": {},
   "source": [
    "#### Verify uploaded dataset"
   ]
  },
  {
   "cell_type": "code",
   "execution_count": null,
   "id": "c0396840-0a57-4cf4-bc3f-fc1bfed703dc",
   "metadata": {},
   "outputs": [],
   "source": [
    "dataset_on_server = domain_client.datasets.get_all()\n",
    "dataset_on_server"
   ]
  },
  {
   "cell_type": "markdown",
   "id": "920825c2-ee67-4676-ad41-0b7757700f70",
   "metadata": {},
   "source": [
    "#### Access data\n",
    "- real & mock data should be accessible"
   ]
  },
  {
   "cell_type": "code",
   "execution_count": null,
   "id": "649c742d-5041-4c8b-85b1-97be3ff6f36c",
   "metadata": {},
   "outputs": [],
   "source": [
    "# access mock dataset\n",
    "mock = domain_client.datasets[0].assets[0].mock\n",
    "mock"
   ]
  },
  {
   "cell_type": "code",
   "execution_count": null,
   "id": "755744ad-0c97-44f2-b69f-20c922b6849c",
   "metadata": {},
   "outputs": [],
   "source": [
    "# access real dataset\n",
    "real = domain_client.datasets[0].assets[0].data\n",
    "real"
   ]
  },
  {
   "cell_type": "markdown",
   "id": "26d36fdb-04aa-4214-924e-3f758d38e1ee",
   "metadata": {},
   "source": [
    "## Create data scientist account"
   ]
  },
  {
   "cell_type": "code",
   "execution_count": null,
   "id": "8ebff56a-2a47-4630-9c3e-e995f2d35d99",
   "metadata": {},
   "outputs": [],
   "source": [
    "domain_client.register(\n",
    "    name=\"Data Scientist 1\",\n",
    "    email=\"datasci@edu.edu\",\n",
    "    password=\"abc123\",\n",
    "    password_verify=\"abc123\",\n",
    "    institution=\"Data Scientist account\"\n",
    ")"
   ]
  },
  {
   "cell_type": "markdown",
   "id": "b603e598-9a51-446f-bebf-d30761bbf465",
   "metadata": {},
   "source": [
    "## Approve code from data scientist"
   ]
  },
  {
   "cell_type": "code",
   "execution_count": null,
   "id": "c365065e-c05c-408f-9792-b14b0d7569b1",
   "metadata": {},
   "outputs": [],
   "source": [
    "project = domain_client.projects[0]"
   ]
  },
  {
   "cell_type": "code",
   "execution_count": null,
   "id": "92d4422b-02c3-4fe7-89a4-6ca6a63b4837",
   "metadata": {},
   "outputs": [],
   "source": [
    "project"
   ]
  },
  {
   "cell_type": "markdown",
   "id": "7be1de8f-1ca1-4526-8e4b-b9468259078a",
   "metadata": {},
   "source": [
    "#### see code in request"
   ]
  },
  {
   "cell_type": "code",
   "execution_count": null,
   "id": "d8f7998d-86fc-4a04-89b1-0c76b2af23a4",
   "metadata": {},
   "outputs": [],
   "source": [
    "request = project.requests[0]\n",
    "request"
   ]
  },
  {
   "cell_type": "code",
   "execution_count": null,
   "id": "95f04aa5-f706-468b-a98a-8011846fa4bb",
   "metadata": {},
   "outputs": [],
   "source": [
    "request.code"
   ]
  },
  {
   "cell_type": "markdown",
   "id": "9076b97a-98be-4787-aeab-3638748ed737",
   "metadata": {},
   "source": [
    "#### see involing asset"
   ]
  },
  {
   "cell_type": "code",
   "execution_count": null,
   "id": "2cb95de3-72f2-444f-bbb5-f0423b0c3a5a",
   "metadata": {},
   "outputs": [],
   "source": [
    "request.code.assets[0].mock"
   ]
  },
  {
   "cell_type": "code",
   "execution_count": null,
   "id": "f81fe8ae-5aad-42d0-9d90-4beb965c28af",
   "metadata": {},
   "outputs": [],
   "source": [
    "request.code.assets[0].data"
   ]
  },
  {
   "cell_type": "markdown",
   "id": "7509aba6-cdea-4b30-bb32-5d83cb1fcbb9",
   "metadata": {},
   "source": [
    "#### Try to run code"
   ]
  },
  {
   "cell_type": "code",
   "execution_count": null,
   "id": "2a614f99-d703-4bf1-a9bc-4d045efccf98",
   "metadata": {},
   "outputs": [],
   "source": [
    "# get user function\n",
    "scientist_function = request.code.unsafe_function"
   ]
  },
  {
   "cell_type": "code",
   "execution_count": null,
   "id": "12a1ab73-50b5-49d3-ad7f-b466f68e4335",
   "metadata": {},
   "outputs": [],
   "source": [
    "real_result = scientist_function(fitness_data=request.code.assets[0].data)\n",
    "real_result"
   ]
  },
  {
   "cell_type": "markdown",
   "id": "4c3bc585-95c9-435e-8c0e-90584c885821",
   "metadata": {},
   "source": [
    "## Share result back to data scientist"
   ]
  },
  {
   "cell_type": "code",
   "execution_count": null,
   "id": "764a3043-1f8d-4b20-8b58-c719708b47d4",
   "metadata": {},
   "outputs": [],
   "source": [
    "result = request.accept_by_depositing_result(real_result)"
   ]
  },
  {
   "cell_type": "code",
   "execution_count": null,
   "id": "be4d3142-b2e6-481e-900a-9de55ca90f07",
   "metadata": {},
   "outputs": [],
   "source": [
    "result"
   ]
  },
  {
   "cell_type": "code",
   "execution_count": null,
   "id": "8caacea0-512d-46da-a7fa-7bb612ac7b18",
   "metadata": {},
   "outputs": [],
   "source": []
  }
 ],
 "metadata": {
  "kernelspec": {
   "display_name": "Python 3 (ipykernel)",
   "language": "python",
   "name": "python3"
  },
  "language_info": {
   "codemirror_mode": {
    "name": "ipython",
    "version": 3
   },
   "file_extension": ".py",
   "mimetype": "text/x-python",
   "name": "python",
   "nbconvert_exporter": "python",
   "pygments_lexer": "ipython3",
   "version": "3.9.6"
  }
 },
 "nbformat": 4,
 "nbformat_minor": 5
}
