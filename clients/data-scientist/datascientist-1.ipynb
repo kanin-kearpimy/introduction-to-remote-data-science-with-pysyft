{
 "cells": [
  {
   "cell_type": "markdown",
   "id": "676eb602-33a9-46cc-acaf-3b3d37651705",
   "metadata": {},
   "source": [
    "## Pre-installation"
   ]
  },
  {
   "cell_type": "markdown",
   "id": "0468ca7d-75d4-4fa7-8c81-4faf13bd4328",
   "metadata": {},
   "source": [
    "#### check if pysyft is installed"
   ]
  },
  {
   "cell_type": "code",
   "execution_count": null,
   "id": "291516a4-cd52-4573-85e8-27dcd6d5d742",
   "metadata": {},
   "outputs": [],
   "source": [
    "try:\n",
    "    import syft as sy\n",
    "    print(\"Syft is imported\")\n",
    "except:\n",
    "    print(\"Syft is not installed\")"
   ]
  },
  {
   "cell_type": "markdown",
   "id": "099a7f7b-6922-48a7-bb38-6f6dbfaba4b0",
   "metadata": {},
   "source": [
    "### connect to syft server by data scientist account"
   ]
  },
  {
   "cell_type": "code",
   "execution_count": null,
   "id": "af555ff1-0b60-4c9f-8e0a-0ca972a49513",
   "metadata": {},
   "outputs": [],
   "source": [
    "try:\n",
    "    domain_client_scientist = sy.login(\n",
    "        port=8080,\n",
    "        email=\"datasci@edu.edu\",\n",
    "        password=\"abc123\"\n",
    "    )\n",
    "except Exception as e:\n",
    "    print(\"Unable to login\")"
   ]
  },
  {
   "cell_type": "markdown",
   "id": "715f49e6-d3aa-43db-97bf-193dbdf53424",
   "metadata": {},
   "source": [
    "## Create Syft Function"
   ]
  },
  {
   "cell_type": "code",
   "execution_count": null,
   "id": "5cb819ff-f933-41d6-9ddc-760ca713e87f",
   "metadata": {},
   "outputs": [],
   "source": [
    "fit_data = domain_client_scientist.datasets[0].assets[0]"
   ]
  },
  {
   "cell_type": "code",
   "execution_count": null,
   "id": "d8736349-17b7-476d-9a38-b05aebb35f84",
   "metadata": {},
   "outputs": [],
   "source": [
    "fit_data.mock"
   ]
  },
  {
   "cell_type": "code",
   "execution_count": null,
   "id": "abd11e65-4757-475d-9589-658c7883c8ff",
   "metadata": {},
   "outputs": [],
   "source": [
    "@sy.syft_function_single_use(fitness_data=fit_data)\n",
    "def find_average_distance(fitness_data):\n",
    "    return fitness_data['duration'].mean()"
   ]
  },
  {
   "cell_type": "markdown",
   "id": "b57cdbc0-12f6-4c8a-baea-c40b64a260da",
   "metadata": {},
   "source": [
    "#### Try with mock data"
   ]
  },
  {
   "cell_type": "code",
   "execution_count": null,
   "id": "83a03619-37fd-4f0a-8fb9-7fd9744ed658",
   "metadata": {},
   "outputs": [],
   "source": [
    "pointer = find_average_distance(fitness_data=fit_data.mock)\n",
    "result = pointer.get()"
   ]
  },
  {
   "cell_type": "code",
   "execution_count": null,
   "id": "e2d755fb-9e96-4555-b7ef-b55084064a65",
   "metadata": {},
   "outputs": [],
   "source": [
    "result"
   ]
  },
  {
   "cell_type": "markdown",
   "id": "66aeceba-4d67-433d-bd23-cb30a0c6a9df",
   "metadata": {},
   "source": [
    "## Submit code to server for review"
   ]
  },
  {
   "cell_type": "code",
   "execution_count": null,
   "id": "8893a370-b9c9-44b7-9d23-b1f39e376787",
   "metadata": {},
   "outputs": [],
   "source": [
    "find_average_distance_project = sy.Project(\n",
    "    name=\"An average distance project\",\n",
    "    description=\"To Find Average Distance of users\",\n",
    "    members=[domain_client_scientist]\n",
    ")\n",
    "find_average_distance_project"
   ]
  },
  {
   "cell_type": "code",
   "execution_count": null,
   "id": "5a191cc6-f2a1-4f88-80ac-2d2fc2f9a811",
   "metadata": {},
   "outputs": [],
   "source": [
    "result = find_average_distance_project.create_code_request(find_average_distance, domain_client_scientist)\n",
    "result"
   ]
  },
  {
   "cell_type": "code",
   "execution_count": null,
   "id": "3323888e-32a6-491f-a93e-cbda67c94924",
   "metadata": {},
   "outputs": [],
   "source": [
    "# get status of code in project\n",
    "project = find_average_distance_project"
   ]
  },
  {
   "cell_type": "code",
   "execution_count": null,
   "id": "1b3752d0-e4f2-49a5-ae4e-edfc18bd0b6f",
   "metadata": {},
   "outputs": [],
   "source": [
    "current_project = project.start()\n",
    "current_project"
   ]
  },
  {
   "cell_type": "markdown",
   "id": "fb6d6838-0b9d-465b-9ea5-1fa0750eaf58",
   "metadata": {},
   "source": [
    "## Run code and get result after owner approve code"
   ]
  },
  {
   "cell_type": "code",
   "execution_count": null,
   "id": "a42bfc8b-095c-44d7-8113-b9b14593b13c",
   "metadata": {},
   "outputs": [],
   "source": [
    "# get asset\n",
    "asset = domain_client_scientist.datasets[0].assets[0]"
   ]
  },
  {
   "cell_type": "code",
   "execution_count": null,
   "id": "db25210c-4822-4763-9eaa-45a45fe98f70",
   "metadata": {},
   "outputs": [],
   "source": [
    "result_pointer = domain_client_scientist.code.find_average_distance(fitness_data=asset)\n",
    "result_pointer"
   ]
  },
  {
   "cell_type": "markdown",
   "id": "ad65977f-edbb-4705-b3e7-0c8d7d3c6840",
   "metadata": {},
   "source": [
    "#### run and get result"
   ]
  },
  {
   "cell_type": "code",
   "execution_count": null,
   "id": "e0f36f55-32ec-4935-8b29-5543d8d875d8",
   "metadata": {},
   "outputs": [],
   "source": [
    "real_result = result_pointer.get()\n",
    "real_result"
   ]
  },
  {
   "cell_type": "code",
   "execution_count": null,
   "id": "8658e8e2-ede0-4750-b1ad-b74b59b2ef99",
   "metadata": {},
   "outputs": [],
   "source": []
  }
 ],
 "metadata": {
  "kernelspec": {
   "display_name": "Python 3 (ipykernel)",
   "language": "python",
   "name": "python3"
  },
  "language_info": {
   "codemirror_mode": {
    "name": "ipython",
    "version": 3
   },
   "file_extension": ".py",
   "mimetype": "text/x-python",
   "name": "python",
   "nbconvert_exporter": "python",
   "pygments_lexer": "ipython3",
   "version": "3.9.6"
  }
 },
 "nbformat": 4,
 "nbformat_minor": 5
}
